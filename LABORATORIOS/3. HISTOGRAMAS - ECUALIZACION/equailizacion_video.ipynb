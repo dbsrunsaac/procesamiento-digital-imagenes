{
 "cells": [
  {
   "cell_type": "code",
   "execution_count": 10,
   "id": "ac1b8179",
   "metadata": {},
   "outputs": [],
   "source": [
    "import cv2\n",
    "import matplotlib.pyplot as plt\n",
    "import numpy as np\n",
    "from PanelControl import *"
   ]
  },
  {
   "cell_type": "code",
   "execution_count": 16,
   "id": "afcb2429",
   "metadata": {},
   "outputs": [],
   "source": [
    "# Importando el video\n",
    "vid = cv2.VideoCapture(0)\n",
    "\n",
    "\n",
    "while True :\n",
    "    _, frame = vid.read()\n",
    "\n",
    "    # Lectura de un CLAHE\n",
    "\n",
    "    clahe = cv2.createCLAHE(clipLimit=20.0, tileGridSize=(16, 16))\n",
    "\n",
    "    # Aplicando CLAHE\n",
    "\n",
    "    # HSV\n",
    "    frame1 = cv2.cvtColor(frame, cv2.COLOR_BGR2HSV)    \n",
    "    frame1[:,:, 2] = clahe.apply(frame1[:, :, 2])\n",
    "    frame_eq1 = cv2.cvtColor(frame1, cv2.COLOR_HSV2BGR)\n",
    "\n",
    "    # YCrCb\n",
    "    frame2 = cv2.cvtColor(frame, cv2.COLOR_BGR2YCrCb)\n",
    "    frame2[:,:, 0] = clahe.apply(frame2[:, :, 0])\n",
    "    frame_eq2 = cv2.cvtColor(frame2, cv2.COLOR_YCrCb2BGR)\n",
    "\n",
    "    # YUV\n",
    "    frame3 = cv2.cvtColor(frame, cv2.COLOR_BGR2YUV)\n",
    "    frame3[:,:, 0] = clahe.apply(frame3[:, :, 0])\n",
    "    frame_eq3 = cv2.cvtColor(frame3, cv2.COLOR_YUV2BGR)\n",
    "\n",
    "    # Archivo de configuración\n",
    "    config = {\n",
    "        'imagenes' : [frame, frame_eq1, frame_eq2, frame_eq3],\n",
    "        'etiquetas' : [\"Original\", \"Eq. HSV\", \"Eq. YCrCb\", \"Eq. YUV\"],\n",
    "        'filas': 2,\n",
    "        'columnas': 2,\n",
    "        'tamaño_base' : 500,\n",
    "        'escala_panel' : 100\n",
    "    }\n",
    "    \n",
    "    # Configuración\n",
    "\n",
    "    panel = crear_panel(**config)\n",
    "    cv2.imshow('Panel', panel)\n",
    "    # Cerrar el video\n",
    "    if cv2.waitKey(1) & 0xFF == 27 :\n",
    "        break\n",
    "\n",
    "vid.release()\n",
    "cv2.destroyAllWindows()\n",
    "\n",
    "\n"
   ]
  },
  {
   "cell_type": "code",
   "execution_count": null,
   "id": "1a921100",
   "metadata": {},
   "outputs": [],
   "source": []
  },
  {
   "cell_type": "code",
   "execution_count": null,
   "id": "d9dd5117",
   "metadata": {},
   "outputs": [],
   "source": []
  },
  {
   "cell_type": "code",
   "execution_count": null,
   "id": "6602bf8c",
   "metadata": {},
   "outputs": [],
   "source": []
  }
 ],
 "metadata": {
  "kernelspec": {
   "display_name": "proce-imagenes",
   "language": "python",
   "name": "python3"
  },
  "language_info": {
   "codemirror_mode": {
    "name": "ipython",
    "version": 3
   },
   "file_extension": ".py",
   "mimetype": "text/x-python",
   "name": "python",
   "nbconvert_exporter": "python",
   "pygments_lexer": "ipython3",
   "version": "3.13.7"
  }
 },
 "nbformat": 4,
 "nbformat_minor": 5
}
