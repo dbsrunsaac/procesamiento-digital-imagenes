{
 "cells": [
  {
   "cell_type": "code",
   "execution_count": 7,
   "id": "5c8eb2ff",
   "metadata": {},
   "outputs": [],
   "source": [
    "import cv2\n",
    "import numpy as np\n",
    "from PanelControl import *"
   ]
  },
  {
   "cell_type": "code",
   "execution_count": null,
   "id": "6eaf750a",
   "metadata": {},
   "outputs": [
    {
     "ename": "error",
     "evalue": "OpenCV(4.12.0) D:\\a\\opencv-python\\opencv-python\\opencv\\modules\\imgproc\\src\\color.simd_helpers.hpp:92: error: (-15:Bad number of channels) in function '__cdecl cv::impl::`anonymous-namespace'::CvtHelper<struct cv::impl::`anonymous namespace'::Set<3,4,-1>,struct cv::impl::A0x6f7fe6c3::Set<3,4,-1>,struct cv::impl::A0x6f7fe6c3::Set<0,2,5>,4>::CvtHelper(const class cv::_InputArray &,const class cv::_OutputArray &,int)'\n> Invalid number of channels in input image:\n>     'VScn::contains(scn)'\n> where\n>     'scn' is 7\n",
     "output_type": "error",
     "traceback": [
      "\u001b[31m---------------------------------------------------------------------------\u001b[39m",
      "\u001b[31merror\u001b[39m                                     Traceback (most recent call last)",
      "\u001b[36mCell\u001b[39m\u001b[36m \u001b[39m\u001b[32mIn[30]\u001b[39m\u001b[32m, line 32\u001b[39m\n\u001b[32m     22\u001b[39m \u001b[38;5;66;03m# Archivo de configuración\u001b[39;00m\n\u001b[32m     23\u001b[39m config = {\n\u001b[32m     24\u001b[39m     \u001b[33m'\u001b[39m\u001b[33mimagenes\u001b[39m\u001b[33m'\u001b[39m : [frame1, h, s, v, frame, b, g, r],\n\u001b[32m     25\u001b[39m     \u001b[33m'\u001b[39m\u001b[33metiquetas\u001b[39m\u001b[33m'\u001b[39m : [\u001b[33m\"\u001b[39m\u001b[33mPiano - HSV\u001b[39m\u001b[33m\"\u001b[39m, \u001b[33m\"\u001b[39m\u001b[33mh\u001b[39m\u001b[33m\"\u001b[39m, \u001b[33m\"\u001b[39m\u001b[33ms\u001b[39m\u001b[33m\"\u001b[39m, \u001b[33m\"\u001b[39m\u001b[33mv\u001b[39m\u001b[33m\"\u001b[39m, \u001b[33m\"\u001b[39m\u001b[33mPiano BGR\u001b[39m\u001b[33m\"\u001b[39m, \u001b[33m\"\u001b[39m\u001b[33mb\u001b[39m\u001b[33m\"\u001b[39m, \u001b[33m\"\u001b[39m\u001b[33mg\u001b[39m\u001b[33m\"\u001b[39m, \u001b[33m\"\u001b[39m\u001b[33mr\u001b[39m\u001b[33m\"\u001b[39m],\n\u001b[32m   (...)\u001b[39m\u001b[32m     29\u001b[39m     \u001b[33m'\u001b[39m\u001b[33mescala_panel\u001b[39m\u001b[33m'\u001b[39m : \u001b[32m100\u001b[39m\n\u001b[32m     30\u001b[39m }\n\u001b[32m---> \u001b[39m\u001b[32m32\u001b[39m \u001b[43mcv2\u001b[49m\u001b[43m.\u001b[49m\u001b[43mimshow\u001b[49m\u001b[43m(\u001b[49m\u001b[33;43m\"\u001b[39;49m\u001b[33;43mBLUE IMAGE\u001b[39;49m\u001b[33;43m\"\u001b[39;49m\u001b[43m,\u001b[49m\u001b[43m \u001b[49m\u001b[43mblue_img\u001b[49m\u001b[43m)\u001b[49m\n\u001b[32m     34\u001b[39m \u001b[38;5;66;03m# Configuración\u001b[39;00m\n\u001b[32m     36\u001b[39m panel = crear_panel(**config)\n",
      "\u001b[31merror\u001b[39m: OpenCV(4.12.0) D:\\a\\opencv-python\\opencv-python\\opencv\\modules\\imgproc\\src\\color.simd_helpers.hpp:92: error: (-15:Bad number of channels) in function '__cdecl cv::impl::`anonymous-namespace'::CvtHelper<struct cv::impl::`anonymous namespace'::Set<3,4,-1>,struct cv::impl::A0x6f7fe6c3::Set<3,4,-1>,struct cv::impl::A0x6f7fe6c3::Set<0,2,5>,4>::CvtHelper(const class cv::_InputArray &,const class cv::_OutputArray &,int)'\n> Invalid number of channels in input image:\n>     'VScn::contains(scn)'\n> where\n>     'scn' is 7\n"
     ]
    },
    {
     "ename": "",
     "evalue": "",
     "output_type": "error",
     "traceback": [
      "\u001b[1;31mThe Kernel crashed while executing code in the current cell or a previous cell. \n",
      "\u001b[1;31mPlease review the code in the cell(s) to identify a possible cause of the failure. \n",
      "\u001b[1;31mClick <a href='https://aka.ms/vscodeJupyterKernelCrash'>here</a> for more info. \n",
      "\u001b[1;31mView Jupyter <a href='command:jupyter.viewOutput'>log</a> for further details."
     ]
    }
   ],
   "source": [
    "img = cv2.imread(\"./media/constelacion.jpeg\")\n",
    "img1 = cv2.resize(img, (0, 0), fx=0.3, fy=0.3)\n",
    "\n",
    "# Importando el video\n",
    "vid = cv2.VideoCapture(\"./media/dipsy woman piano.mp4\")\n",
    "\n",
    "\n",
    "while True :\n",
    "    _, frame = vid.read()\n",
    "    \n",
    "    frame1 = cv2.cvtColor(frame, cv2.COLOR_BGR2HSV)\n",
    "\n",
    "    zeros = np.zeros_like(frame)\n",
    "    b, g, r = cv2.split(frame)\n",
    "    \n",
    "    blue_img = cv2.merge([b, zeros, zeros])\n",
    "    green_img = cv2.merge([zeros, g, zeros])\n",
    "    red_img = cv2.merge([zeros, zeros, r])\n",
    "    \n",
    "    h, s, v = cv2.split(frame1)\n",
    "\n",
    "    # Archivo de configuración\n",
    "    config = {\n",
    "        'imagenes' : [frame1, h, s, v, frame, b, g, r],\n",
    "        'etiquetas' : [\"Piano - HSV\", \"h\", \"s\", \"v\", \"Piano BGR\", \"b\", \"g\", \"r\"],\n",
    "        'filas': 2,\n",
    "        'columnas': 4,\n",
    "        'tamaño_base' : 250,\n",
    "        'escala_panel' : 100\n",
    "    }\n",
    "\n",
    "    cv2.imshow(\"BLUE IMAGE\", blue_img)\n",
    "    \n",
    "    # Configuración\n",
    "\n",
    "    panel = crear_panel(**config)\n",
    "    cv2.imshow('Panel', panel)\n",
    "    # Cerrar el video\n",
    "    if cv2.waitKey(1) & 0xFF == 27 :\n",
    "        break\n",
    "\n",
    "vid.release()\n",
    "cv2.destroyAllWindows()\n",
    "\n",
    "# Modo de color 1\n",
    "imghsv = cv2.cvtColor(img1, cv2.COLOR_BGR2HSV)\n",
    "h = img1[:,:, 0]\n",
    "s = img1[:,:, 1]\n",
    "v = img1[:,:, 2]\n",
    "\n",
    "# Recuperar cada capa\n",
    "b, g, r = cv2.split(img1)\n",
    "h, s, v = cv2.split(imghsv)\n",
    "\n",
    "# Capa cada de colores\n",
    "zeros = np.zeros_like(b)\n",
    "blue_img = cv2.merge([b, zeros, zeros])\n",
    "green_img = cv2.merge([zeros, g, zeros])\n",
    "red_img = cv2.merge([zeros, zeros, r])\n",
    "# cv2.waitKey(0)\n",
    "# cv2.destroyAllWindows()\n"
   ]
  },
  {
   "cell_type": "code",
   "execution_count": null,
   "id": "864c9286",
   "metadata": {},
   "outputs": [],
   "source": []
  },
  {
   "cell_type": "code",
   "execution_count": null,
   "id": "5c5eff0b",
   "metadata": {},
   "outputs": [],
   "source": []
  },
  {
   "cell_type": "code",
   "execution_count": null,
   "id": "282db09e",
   "metadata": {},
   "outputs": [],
   "source": []
  },
  {
   "cell_type": "code",
   "execution_count": null,
   "id": "a3559dec",
   "metadata": {},
   "outputs": [],
   "source": []
  }
 ],
 "metadata": {
  "kernelspec": {
   "display_name": "proce-imagenes",
   "language": "python",
   "name": "python3"
  },
  "language_info": {
   "codemirror_mode": {
    "name": "ipython",
    "version": 3
   },
   "file_extension": ".py",
   "mimetype": "text/x-python",
   "name": "python",
   "nbconvert_exporter": "python",
   "pygments_lexer": "ipython3",
   "version": "3.12.11"
  }
 },
 "nbformat": 4,
 "nbformat_minor": 5
}
