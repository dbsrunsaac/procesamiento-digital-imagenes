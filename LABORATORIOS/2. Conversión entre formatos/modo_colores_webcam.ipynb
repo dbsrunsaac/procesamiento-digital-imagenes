{
 "cells": [
  {
   "cell_type": "code",
   "execution_count": 1,
   "id": "11da4126",
   "metadata": {},
   "outputs": [],
   "source": [
    "import cv2\n",
    "import numpy\n",
    "from PanelControl import *"
   ]
  },
  {
   "cell_type": "code",
   "execution_count": 2,
   "id": "b7a3fcb2",
   "metadata": {},
   "outputs": [
    {
     "name": "stderr",
     "output_type": "stream",
     "text": [
      "qt.qpa.plugin: Could not find the Qt platform plugin \"wayland\" in \"/home/bremdow/anaconda3/envs/proce-imagenes/lib/python3.13/site-packages/cv2/qt/plugins\"\n"
     ]
    },
    {
     "ename": "NameError",
     "evalue": "name 'img1' is not defined",
     "output_type": "error",
     "traceback": [
      "\u001b[31m---------------------------------------------------------------------------\u001b[39m",
      "\u001b[31mNameError\u001b[39m                                 Traceback (most recent call last)",
      "\u001b[36mCell\u001b[39m\u001b[36m \u001b[39m\u001b[32mIn[2]\u001b[39m\u001b[32m, line 35\u001b[39m\n\u001b[32m     32\u001b[39m cv2.destroyAllWindows()\n\u001b[32m     34\u001b[39m \u001b[38;5;66;03m# Modo de color 1\u001b[39;00m\n\u001b[32m---> \u001b[39m\u001b[32m35\u001b[39m imghsv = cv2.cvtColor(\u001b[43mimg1\u001b[49m, cv2.COLOR_BGR2HSV)\n\u001b[32m     36\u001b[39m h = img1[:,:, \u001b[32m0\u001b[39m]\n\u001b[32m     37\u001b[39m s = img1[:,:, \u001b[32m1\u001b[39m]\n",
      "\u001b[31mNameError\u001b[39m: name 'img1' is not defined"
     ]
    }
   ],
   "source": [
    "# Importando el video\n",
    "vid = cv2.VideoCapture(0)\n",
    "\n",
    "\n",
    "while True :\n",
    "    _, frame = vid.read()\n",
    "\n",
    "    frame1 = cv2.cvtColor(frame, cv2.COLOR_BGR2HSV)\n",
    "\n",
    "    b, g, r = cv2.split(frame)\n",
    "    h, s, v = cv2.split(frame1)\n",
    "\n",
    "    # Archivo de configuración\n",
    "    config = {\n",
    "        'imagenes' : [frame1, h, s, v, frame, b, g, r],\n",
    "        'etiquetas' : [\"Piano - Original\", \"h\", \"s\", \"v\", \"Piano BGR\", \"b\", \"g\", \"r\"],\n",
    "        'filas': 2,\n",
    "        'columnas': 4,\n",
    "        'tamaño_base' : 250,\n",
    "        'escala_panel' : 100\n",
    "    }\n",
    "    \n",
    "    # Configuración\n",
    "\n",
    "    panel = crear_panel(**config)\n",
    "    cv2.imshow('Panel', panel)\n",
    "    # Cerrar el video\n",
    "    if cv2.waitKey(1) & 0xFF == 27 :\n",
    "        break\n",
    "\n",
    "vid.release()\n",
    "cv2.destroyAllWindows()\n",
    "\n",
    "# Modo de color 1\n",
    "imghsv = cv2.cvtColor(img1, cv2.COLOR_BGR2HSV)\n",
    "h = img1[:,:, 0]\n",
    "s = img1[:,:, 1]\n",
    "v = img1[:,:, 2]\n",
    "\n",
    "# Recuperar cada capa\n",
    "b, g, r = cv2.split(img1)\n",
    "h, s, v = cv2.split(imghsv)\n",
    "\n",
    "# Capa cada de colores\n",
    "zeros = np.zeros_like(b)\n",
    "blue_img = cv2.merge([b, zeros, zeros])\n",
    "green_img = cv2.merge([zeros, g, zeros])\n",
    "red_img = cv2.merge([zeros, zeros, r])\n",
    "# cv2.waitKey(0)\n",
    "# cv2.destroyAllWindows()\n"
   ]
  },
  {
   "cell_type": "code",
   "execution_count": null,
   "id": "1af92f06",
   "metadata": {},
   "outputs": [],
   "source": []
  },
  {
   "cell_type": "code",
   "execution_count": null,
   "id": "4dbacb0e",
   "metadata": {},
   "outputs": [],
   "source": []
  }
 ],
 "metadata": {
  "kernelspec": {
   "display_name": "proce-imagenes",
   "language": "python",
   "name": "python3"
  },
  "language_info": {
   "codemirror_mode": {
    "name": "ipython",
    "version": 3
   },
   "file_extension": ".py",
   "mimetype": "text/x-python",
   "name": "python",
   "nbconvert_exporter": "python",
   "pygments_lexer": "ipython3",
   "version": "3.12.11"
  }
 },
 "nbformat": 4,
 "nbformat_minor": 5
}
