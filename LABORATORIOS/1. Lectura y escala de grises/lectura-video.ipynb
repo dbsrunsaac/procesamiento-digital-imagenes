{
 "cells": [
  {
   "cell_type": "code",
   "execution_count": null,
   "id": "198566f4",
   "metadata": {},
   "outputs": [],
   "source": [
    "import cv2\n",
    "# TODO: REDIMENSIONAR UN VIDEO"
   ]
  },
  {
   "cell_type": "code",
   "execution_count": 10,
   "id": "8c63e5b6",
   "metadata": {},
   "outputs": [],
   "source": [
    "vid = cv2.VideoCapture(\"./dipsy woman piano.mp4\")\n",
    "\n",
    "# img1 = cv2.resize(img, (0,0), fx=0.25, fy=0.25)\n",
    "while(True) :\n",
    "    # La primera variable no se usa (_) y en frame se almacena el video\n",
    "    _, frame = vid.read()\n",
    "    cv2.imshow(\"Original\", frame)\n",
    "\n",
    "    frame1 = cv2.resize(frame, (0,0), fx=0.5, fy=0.5)\n",
    "    cv2.imshow(\"Crazy Piano\", frame1)\n",
    "\n",
    "    gray = cv2.cvtColor(frame1, cv2.COLOR_BGR2GRAY)\n",
    "    cv2.imshow(\"Escala grises\", gray)\n",
    "    # 30 determina los frames por segundo (fps), determinar la reproducción del video\n",
    "\n",
    "    # 0xFF permite la lectura del teclado y asociarlo al código ASCCI 27 (tecla esc)\n",
    "\n",
    "    if cv2.waitKey(30) & 0xFF == 27 :\n",
    "        break\n",
    "cv2.destroyAllWindows()"
   ]
  },
  {
   "cell_type": "code",
   "execution_count": null,
   "id": "efa2bce9",
   "metadata": {},
   "outputs": [],
   "source": []
  },
  {
   "cell_type": "markdown",
   "id": "9c41c4ed",
   "metadata": {},
   "source": []
  },
  {
   "cell_type": "markdown",
   "id": "fa6ba128",
   "metadata": {},
   "source": []
  },
  {
   "cell_type": "code",
   "execution_count": null,
   "id": "9f661be9",
   "metadata": {},
   "outputs": [],
   "source": []
  }
 ],
 "metadata": {
  "kernelspec": {
   "display_name": "proce-imagenes",
   "language": "python",
   "name": "python3"
  },
  "language_info": {
   "codemirror_mode": {
    "name": "ipython",
    "version": 3
   },
   "file_extension": ".py",
   "mimetype": "text/x-python",
   "name": "python",
   "nbconvert_exporter": "python",
   "pygments_lexer": "ipython3",
   "version": "3.12.11"
  }
 },
 "nbformat": 4,
 "nbformat_minor": 5
}
