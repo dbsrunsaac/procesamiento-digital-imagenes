{
 "cells": [
  {
   "cell_type": "code",
   "execution_count": 1,
   "id": "9bbd0bf7",
   "metadata": {},
   "outputs": [],
   "source": [
    "import cv2"
   ]
  },
  {
   "cell_type": "code",
   "execution_count": 4,
   "id": "ae1028f1",
   "metadata": {},
   "outputs": [],
   "source": [
    "# Este proceso se realiza al publicar la dirección de la camará del telefono mediante el uso de una aplicación mediante el protocolo http\n",
    "url = 'http://192.168.137.172:8000/video'\n",
    "\n",
    "vid = cv2.VideoCapture(url)\n",
    "\n",
    "while True :\n",
    "    _, frame = vid.read()\n",
    "    cv2.imshow(\"camara remota\", frame)\n",
    "    \n",
    "    frame1 = cv2.resize(frame,(0,0), fx=0.7, fy=0.6)\n",
    "    cv2.imshow(\"Redimension\", frame1)\n",
    "\n",
    "    gray = cv2.cvtColor(frame1, cv2.COLOR_BGR2GRAY)\n",
    "    cv2.imshow(\"Escala de grises\", gray)\n",
    "\n",
    "    if cv2.waitKey(1) & 0xFF == 27 :\n",
    "        break\n",
    "\n",
    "vid.release()\n",
    "cv2.destroyAllWindows()\n"
   ]
  }
 ],
 "metadata": {
  "kernelspec": {
   "display_name": "proce-imagenes",
   "language": "python",
   "name": "python3"
  },
  "language_info": {
   "codemirror_mode": {
    "name": "ipython",
    "version": 3
   },
   "file_extension": ".py",
   "mimetype": "text/x-python",
   "name": "python",
   "nbconvert_exporter": "python",
   "pygments_lexer": "ipython3",
   "version": "3.12.11"
  }
 },
 "nbformat": 4,
 "nbformat_minor": 5
}
