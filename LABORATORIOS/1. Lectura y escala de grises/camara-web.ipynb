{
 "cells": [
  {
   "cell_type": "code",
   "execution_count": 1,
   "id": "a9118f30",
   "metadata": {},
   "outputs": [],
   "source": [
    "import cv2"
   ]
  },
  {
   "cell_type": "code",
   "execution_count": 7,
   "id": "e3d301dc",
   "metadata": {},
   "outputs": [],
   "source": [
    "# 0: Dirección de la cámara web\n",
    "vid = cv2.VideoCapture(0)\n",
    "\n",
    "while(True) :\n",
    "    _, frame = vid.read()\n",
    "    cv2.imshow(\"Web camera\", frame)\n",
    "\n",
    "    frame1 = cv2.resize(frame, (0, 0), fx=0.4, fy=0.4)\n",
    "    cv2.imshow(\"Redimensionado\", frame1)\n",
    "\n",
    "    gray = cv2.cvtColor(frame1, cv2.COLOR_BGR2GRAY)\n",
    "    cv2.imshow(\"Escala grises\", gray)\n",
    "\n",
    "    if cv2.waitKey(1) % 0xFF == 27 :\n",
    "        break\n",
    "\n",
    "# liberar la cámara web al cerrar la ventana\n",
    "vid.release()\n",
    "cv2.destroyAllWindows()"
   ]
  }
 ],
 "metadata": {
  "kernelspec": {
   "display_name": "proce-imagenes",
   "language": "python",
   "name": "python3"
  },
  "language_info": {
   "codemirror_mode": {
    "name": "ipython",
    "version": 3
   },
   "file_extension": ".py",
   "mimetype": "text/x-python",
   "name": "python",
   "nbconvert_exporter": "python",
   "pygments_lexer": "ipython3",
   "version": "3.12.11"
  }
 },
 "nbformat": 4,
 "nbformat_minor": 5
}
