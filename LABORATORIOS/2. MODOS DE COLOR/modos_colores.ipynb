{
 "cells": [
  {
   "cell_type": "code",
   "execution_count": 3,
   "id": "d59f257f",
   "metadata": {},
   "outputs": [],
   "source": [
    "import cv2\n",
    "import numpy as np"
   ]
  },
  {
   "cell_type": "code",
   "execution_count": null,
   "id": "ba0401b3",
   "metadata": {},
   "outputs": [],
   "source": [
    "img = cv2.imread(\"./media/constelacion.jpeg\")\n",
    "img1 = cv2.resize(img, (0, 0), fx=0.3, fy=0.3)\n",
    "# BGR2LAB\n",
    "'''\n",
    "opencv \n",
    "Altera el orden del modo de color RGB por BGR\n",
    "Lo que implica que en el espacio:\n",
    "B [0] es la primera capa\n",
    "G [1] es la segunda capa\n",
    "R [2] es la tercera capa\n",
    "'''\n",
    "imghsv = cv2.cvtColor(img1, cv2.COLOR_BGR2HSV)\n",
    "h = img1[:,:, 0]\n",
    "s = img1[:,:, 1]\n",
    "v = img1[:,:, 2]\n",
    "\n",
    "cv2.imshow(\"Original\", img1)\n",
    "cv2.imshow(\"hsv\", imghsv)\n",
    "cv2.imshow(\"h\", h)\n",
    "cv2.imshow(\"s\", s)\n",
    "cv2.imshow(\"v\", v)\n",
    "\n",
    "cv2.waitKey(0)\n",
    "cv2.destroyAllWindows()"
   ]
  },
  {
   "cell_type": "code",
   "execution_count": null,
   "id": "50483738",
   "metadata": {},
   "outputs": [],
   "source": []
  },
  {
   "cell_type": "code",
   "execution_count": null,
   "id": "72854bdf",
   "metadata": {},
   "outputs": [],
   "source": []
  },
  {
   "cell_type": "code",
   "execution_count": null,
   "id": "432cb1e5",
   "metadata": {},
   "outputs": [],
   "source": []
  },
  {
   "cell_type": "code",
   "execution_count": null,
   "id": "0d3fb237",
   "metadata": {},
   "outputs": [],
   "source": []
  }
 ],
 "metadata": {
  "kernelspec": {
   "display_name": "proce-imagenes",
   "language": "python",
   "name": "python3"
  },
  "language_info": {
   "codemirror_mode": {
    "name": "ipython",
    "version": 3
   },
   "file_extension": ".py",
   "mimetype": "text/x-python",
   "name": "python",
   "nbconvert_exporter": "python",
   "pygments_lexer": "ipython3",
   "version": "3.12.11"
  }
 },
 "nbformat": 4,
 "nbformat_minor": 5
}
