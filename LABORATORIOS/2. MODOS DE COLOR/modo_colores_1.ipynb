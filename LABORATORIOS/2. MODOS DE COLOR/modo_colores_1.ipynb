{
 "cells": [
  {
   "cell_type": "code",
   "execution_count": null,
   "id": "9e6da6c8",
   "metadata": {},
   "outputs": [],
   "source": [
    "import cv2\n",
    "import numpy as np"
   ]
  },
  {
   "cell_type": "code",
   "execution_count": 3,
   "id": "d7c77272",
   "metadata": {},
   "outputs": [],
   "source": [
    "img = cv2.imread(\"./media/constelacion.jpeg\")\n",
    "img1 = cv2.resize(img, (0,0), fx=0.4, fy=0.4)\n",
    "\n",
    "b, g, r = cv2.split(img1)\n",
    "zeros = np.zeros_like(b)\n",
    "\n",
    "blue_img = cv2.merge([b, zeros, zeros])\n",
    "green_img = cv2.merge([zeros, g, zeros])\n",
    "red_img = cv2.merge([zeros, zeros, r])\n",
    "\n",
    "cv2.imshow(\"Imagen original\", img1)\n",
    "cv2.imshow(\"Canal Azul\", blue_img)\n",
    "cv2.imshow(\"Canal verde\", green_img)\n",
    "cv2.imshow(\"Canal Rojo\", red_img)\n",
    "\n",
    "cv2.waitKey(0)\n",
    "cv2.destroyAllWindows()"
   ]
  },
  {
   "cell_type": "code",
   "execution_count": null,
   "id": "34faa082",
   "metadata": {},
   "outputs": [],
   "source": []
  },
  {
   "cell_type": "code",
   "execution_count": null,
   "id": "c42c46b6",
   "metadata": {},
   "outputs": [],
   "source": []
  },
  {
   "cell_type": "code",
   "execution_count": null,
   "id": "563a664d",
   "metadata": {},
   "outputs": [],
   "source": []
  },
  {
   "cell_type": "markdown",
   "id": "93aa8b39",
   "metadata": {},
   "source": []
  }
 ],
 "metadata": {
  "kernelspec": {
   "display_name": "proce-imagenes",
   "language": "python",
   "name": "python3"
  },
  "language_info": {
   "codemirror_mode": {
    "name": "ipython",
    "version": 3
   },
   "file_extension": ".py",
   "mimetype": "text/x-python",
   "name": "python",
   "nbconvert_exporter": "python",
   "pygments_lexer": "ipython3",
   "version": "3.12.11"
  }
 },
 "nbformat": 4,
 "nbformat_minor": 5
}
