{
 "cells": [
  {
   "cell_type": "code",
   "execution_count": 9,
   "id": "908bfb67",
   "metadata": {},
   "outputs": [],
   "source": [
    "import cv2\n",
    "import numpy\n",
    "from PanelControl import *"
   ]
  },
  {
   "cell_type": "code",
   "execution_count": 18,
   "id": "b14dfcfe",
   "metadata": {},
   "outputs": [],
   "source": [
    "img = cv2.imread(\"./media/constelacion.jpeg\")\n",
    "img1 = cv2.resize(img, (0, 0), fx=0.3, fy=0.3)\n",
    "\n",
    "# Modo de color 1\n",
    "imghsv = cv2.cvtColor(img1, cv2.COLOR_BGR2HSV)\n",
    "h = img1[:,:, 0]\n",
    "s = img1[:,:, 1]\n",
    "v = img1[:,:, 2]\n",
    "\n",
    "# Recuperar cada capa la función split recupera lo anterior en una sola línea de código\n",
    "b, g, r = cv2.split(img1)\n",
    "h, s, v = cv2.split(imghsv)\n",
    "\n",
    "# Capa cada de colores\n",
    "zeros = np.zeros_like(b)\n",
    "blue_img = cv2.merge([b, zeros, zeros])\n",
    "green_img = cv2.merge([zeros, g, zeros])\n",
    "red_img = cv2.merge([zeros, zeros, r])\n",
    "\n",
    "# Archivo de configuración\n",
    "config = {\n",
    "    'imagenes' : [img1, b, g, r, imghsv, h, s, v, img1, blue_img, green_img, red_img],\n",
    "    'etiquetas' : [\"Constelaci'on\", \"Blue\", \"Green\", \"Red\", \"hsv\", \"h\", \"s\", \"v\", \"BGR\", \"Blue - RGB\", \"Green - RGB\", \"Red - RGB\"],\n",
    "    'filas': 3,\n",
    "    'columnas': 4,\n",
    "    'tamaño_base' : 250,\n",
    "    'escala_panel' : 100\n",
    "}\n",
    "\n",
    "panel = crear_panel(**config)\n",
    "cv2.imshow('Panel', panel)\n",
    "cv2.waitKey(0)\n",
    "cv2.destroyAllWindows()\n"
   ]
  },
  {
   "cell_type": "code",
   "execution_count": null,
   "id": "b97d598d",
   "metadata": {},
   "outputs": [],
   "source": []
  },
  {
   "cell_type": "code",
   "execution_count": null,
   "id": "8c563aae",
   "metadata": {},
   "outputs": [],
   "source": []
  },
  {
   "cell_type": "code",
   "execution_count": null,
   "id": "c5542d17",
   "metadata": {},
   "outputs": [],
   "source": []
  },
  {
   "cell_type": "code",
   "execution_count": null,
   "id": "9cdd4ee1",
   "metadata": {},
   "outputs": [],
   "source": []
  }
 ],
 "metadata": {
  "kernelspec": {
   "display_name": "proce-imagenes",
   "language": "python",
   "name": "python3"
  },
  "language_info": {
   "codemirror_mode": {
    "name": "ipython",
    "version": 3
   },
   "file_extension": ".py",
   "mimetype": "text/x-python",
   "name": "python",
   "nbconvert_exporter": "python",
   "pygments_lexer": "ipython3",
   "version": "3.12.11"
  }
 },
 "nbformat": 4,
 "nbformat_minor": 5
}
