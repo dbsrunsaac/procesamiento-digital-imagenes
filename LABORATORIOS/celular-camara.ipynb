{
 "cells": [
  {
   "cell_type": "code",
   "execution_count": 1,
   "id": "9bbd0bf7",
   "metadata": {},
   "outputs": [],
   "source": [
    "import cv2"
   ]
  },
  {
   "cell_type": "code",
   "execution_count": null,
   "id": "ae1028f1",
   "metadata": {},
   "outputs": [
    {
     "ename": "error",
     "evalue": "OpenCV(4.12.0) D:\\a\\opencv-python\\opencv-python\\opencv\\modules\\highgui\\src\\window.cpp:973: error: (-215:Assertion failed) size.width>0 && size.height>0 in function 'cv::imshow'\n",
     "output_type": "error",
     "traceback": [
      "\u001b[31m---------------------------------------------------------------------------\u001b[39m",
      "\u001b[31merror\u001b[39m                                     Traceback (most recent call last)",
      "\u001b[36mCell\u001b[39m\u001b[36m \u001b[39m\u001b[32mIn[7]\u001b[39m\u001b[32m, line 8\u001b[39m\n\u001b[32m      6\u001b[39m \u001b[38;5;28;01mwhile\u001b[39;00m \u001b[38;5;28;01mTrue\u001b[39;00m :\n\u001b[32m      7\u001b[39m     _, frame = vid.read()\n\u001b[32m----> \u001b[39m\u001b[32m8\u001b[39m     \u001b[43mcv2\u001b[49m\u001b[43m.\u001b[49m\u001b[43mimshow\u001b[49m\u001b[43m(\u001b[49m\u001b[33;43m\"\u001b[39;49m\u001b[33;43mCel cam\u001b[39;49m\u001b[33;43m\"\u001b[39;49m\u001b[43m,\u001b[49m\u001b[43m \u001b[49m\u001b[43mframe\u001b[49m\u001b[43m)\u001b[49m\n\u001b[32m     10\u001b[39m     frame1 = cv2.resize(frame,(\u001b[32m0\u001b[39m,\u001b[32m0\u001b[39m), fx=\u001b[32m0.2\u001b[39m, fy=\u001b[32m0.2\u001b[39m)\n\u001b[32m     11\u001b[39m     cv2.imshow(\u001b[33m\"\u001b[39m\u001b[33mRedimension\u001b[39m\u001b[33m\"\u001b[39m, frame1)\n",
      "\u001b[31merror\u001b[39m: OpenCV(4.12.0) D:\\a\\opencv-python\\opencv-python\\opencv\\modules\\highgui\\src\\window.cpp:973: error: (-215:Assertion failed) size.width>0 && size.height>0 in function 'cv::imshow'\n"
     ]
    }
   ],
   "source": [
    "# Este proceso se realiza al publicar la dirección de la camará del telefono mediante el uso de una aplicación mediante el protocolo http\n",
    "url = 'http://10.10.37.59:8000'\n",
    "\n",
    "vid = cv2.VideoCapture(url)\n",
    "\n",
    "while True :\n",
    "    _, frame = vid.read()\n",
    "    cv2.imshow(\"camara remota\", frame)\n",
    "    \n",
    "    frame1 = cv2.resize(frame,(0,0), fx=0.2, fy=0.2)\n",
    "    cv2.imshow(\"Redimension\", frame1)\n",
    "\n",
    "    gray = cv2.cvtColor(frame1, cv2.COLOR_BGR2GRAY)\n",
    "    cv2.imshow(\"Escala de grises\", gray)\n",
    "\n",
    "    if cv2.waitKey(1) & 0xFF == 27 :\n",
    "        break\n",
    "\n",
    "vid.release()\n",
    "cv2.destroyAllWindows()\n"
   ]
  }
 ],
 "metadata": {
  "kernelspec": {
   "display_name": "proce-imagenes",
   "language": "python",
   "name": "python3"
  },
  "language_info": {
   "codemirror_mode": {
    "name": "ipython",
    "version": 3
   },
   "file_extension": ".py",
   "mimetype": "text/x-python",
   "name": "python",
   "nbconvert_exporter": "python",
   "pygments_lexer": "ipython3",
   "version": "3.12.11"
  }
 },
 "nbformat": 4,
 "nbformat_minor": 5
}
