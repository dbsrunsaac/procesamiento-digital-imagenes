{
 "cells": [
  {
   "cell_type": "code",
   "execution_count": 1,
   "id": "40f211e0",
   "metadata": {},
   "outputs": [],
   "source": [
    "import cv2\n",
    "import numpy as np\n",
    "import matplotlib.pyplot as plt"
   ]
  },
  {
   "cell_type": "code",
   "execution_count": null,
   "id": "05ae156e",
   "metadata": {},
   "outputs": [],
   "source": [
    "img = cv2.imread(\"darkPollen.jpg\")\n",
    "\n",
    "# Ajuste de contraste\n",
    "c = 17\n",
    "\n",
    "img_cont = cv2.convertScaleAbs(img, alpha=c, beta=0)\n",
    "img_cont = np.clip(img_cont, 0, 255).astype(np.uint8) # truncar a un rango de valores entre 0 y 255\n",
    "\n",
    "\n",
    "# Ajuste de brillo\n",
    "b = 50\n",
    "img_brillo = cv2.add(img_cont, (b, b, b))\n",
    "img_brillo = np.clip(img_brillo, 0, 255).astype(np.uint8)\n",
    "\n",
    "\n",
    "# Corrección gamma\n",
    "gamma = 0.8\n",
    "img_gam = np.power(img_brillo/255.0, gamma)*255.0\n",
    "img_gam = np.clip(img_gam, 0, 255).astype(np.uint8)\n",
    "\n",
    "cv2.imshow(\"Imagen original\", img)\n",
    "cv2.imshow(\"Correccion de contraste\", img_cont)\n",
    "cv2.imshow(\"Correccion de brillo\", img_brillo)\n",
    "cv2.imshow(\"Correccion Gamma\", img_gam)\n",
    "\n",
    "\n",
    "cv2.waitKey(0)\n",
    "cv2.destroyAllWindows()"
   ]
  },
  {
   "cell_type": "code",
   "execution_count": null,
   "id": "242fdff7",
   "metadata": {},
   "outputs": [],
   "source": []
  },
  {
   "cell_type": "code",
   "execution_count": null,
   "id": "877c82f8",
   "metadata": {},
   "outputs": [],
   "source": []
  },
  {
   "cell_type": "code",
   "execution_count": null,
   "id": "576183d4",
   "metadata": {},
   "outputs": [],
   "source": []
  },
  {
   "cell_type": "code",
   "execution_count": null,
   "id": "e4ae511f",
   "metadata": {},
   "outputs": [],
   "source": []
  },
  {
   "cell_type": "code",
   "execution_count": null,
   "id": "3ca5a880",
   "metadata": {},
   "outputs": [],
   "source": []
  }
 ],
 "metadata": {
  "kernelspec": {
   "display_name": "proce-imagenes",
   "language": "python",
   "name": "python3"
  },
  "language_info": {
   "codemirror_mode": {
    "name": "ipython",
    "version": 3
   },
   "file_extension": ".py",
   "mimetype": "text/x-python",
   "name": "python",
   "nbconvert_exporter": "python",
   "pygments_lexer": "ipython3",
   "version": "3.12.11"
  }
 },
 "nbformat": 4,
 "nbformat_minor": 5
}
