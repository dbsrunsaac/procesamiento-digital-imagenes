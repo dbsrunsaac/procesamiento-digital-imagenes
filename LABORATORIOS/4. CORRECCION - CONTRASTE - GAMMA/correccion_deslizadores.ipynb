{
 "cells": [
  {
   "cell_type": "code",
   "execution_count": 7,
   "id": "15617d9b",
   "metadata": {},
   "outputs": [],
   "source": [
    "import cv2\n",
    "import numpy as np\n",
    "from PanelControl import *"
   ]
  },
  {
   "cell_type": "code",
   "execution_count": null,
   "id": "40fbb889",
   "metadata": {},
   "outputs": [
    {
     "ename": "AttributeError",
     "evalue": "'float' object has no attribute 'shape'",
     "output_type": "error",
     "traceback": [
      "\u001b[31m---------------------------------------------------------------------------\u001b[39m",
      "\u001b[31mAttributeError\u001b[39m                            Traceback (most recent call last)",
      "\u001b[36mCell\u001b[39m\u001b[36m \u001b[39m\u001b[32mIn[9]\u001b[39m\u001b[32m, line 52\u001b[39m\n\u001b[32m     38\u001b[39m config = {\n\u001b[32m     39\u001b[39m     \u001b[33m'\u001b[39m\u001b[33mimagenes\u001b[39m\u001b[33m'\u001b[39m : [img, contraste, brillo, gamma],\n\u001b[32m     40\u001b[39m     \u001b[33m'\u001b[39m\u001b[33metiquetas\u001b[39m\u001b[33m'\u001b[39m : [\u001b[33m\"\u001b[39m\u001b[33mOriginal\u001b[39m\u001b[33m\"\u001b[39m, \u001b[33m\"\u001b[39m\u001b[33mContraste\u001b[39m\u001b[33m\"\u001b[39m, \u001b[33m\"\u001b[39m\u001b[33mBrillo\u001b[39m\u001b[33m\"\u001b[39m, \u001b[33m\"\u001b[39m\u001b[33mGamma\u001b[39m\u001b[33m\"\u001b[39m],\n\u001b[32m   (...)\u001b[39m\u001b[32m     44\u001b[39m     \u001b[33m'\u001b[39m\u001b[33mescala_panel\u001b[39m\u001b[33m'\u001b[39m : \u001b[32m100\u001b[39m\n\u001b[32m     45\u001b[39m }\n\u001b[32m     47\u001b[39m \u001b[38;5;66;03m# cv2.imshow(\"Imagen original\", img)\u001b[39;00m\n\u001b[32m     48\u001b[39m \u001b[38;5;66;03m# cv2.imshow(\"Correccion de contraste\", img_contraste)\u001b[39;00m\n\u001b[32m     49\u001b[39m \u001b[38;5;66;03m# cv2.imshow(\"Correccion de brillo\", img_brillo)\u001b[39;00m\n\u001b[32m     50\u001b[39m \u001b[38;5;66;03m# cv2.imshow(\"Correccion Gamma\", img_gamma)\u001b[39;00m\n\u001b[32m---> \u001b[39m\u001b[32m52\u001b[39m panel = \u001b[43mcrear_panel\u001b[49m\u001b[43m(\u001b[49m\u001b[43m*\u001b[49m\u001b[43m*\u001b[49m\u001b[43mconfig\u001b[49m\u001b[43m)\u001b[49m\n\u001b[32m     53\u001b[39m cv2.imshow(\u001b[33m'\u001b[39m\u001b[33mPanel\u001b[39m\u001b[33m'\u001b[39m, panel)\n\u001b[32m     55\u001b[39m \u001b[38;5;28;01mif\u001b[39;00m cv2.waitKey(\u001b[32m1\u001b[39m) & \u001b[32m0xFF\u001b[39m == \u001b[32m27\u001b[39m :\n",
      "\u001b[36mFile \u001b[39m\u001b[32mc:\\Users\\Bremdows\\UNSAAC\\ELECTIVOS\\PROCESAMIENTO DIGITAL DE IMAGENES\\procesamiento-digital-imagenes\\LABORATORIOS\\4. CORRECCION - CONTRASTE - GAMMA\\PanelControl.py:46\u001b[39m, in \u001b[36mcrear_panel\u001b[39m\u001b[34m(imagenes, etiquetas, filas, columnas, tamaño_base, escala_panel)\u001b[39m\n\u001b[32m     44\u001b[39m celdas = []\n\u001b[32m     45\u001b[39m \u001b[38;5;28;01mfor\u001b[39;00m img, etiqueta \u001b[38;5;129;01min\u001b[39;00m \u001b[38;5;28mzip\u001b[39m(imagenes, etiquetas):\n\u001b[32m---> \u001b[39m\u001b[32m46\u001b[39m     \u001b[38;5;28;01mif\u001b[39;00m \u001b[38;5;28mlen\u001b[39m(\u001b[43mimg\u001b[49m\u001b[43m.\u001b[49m\u001b[43mshape\u001b[49m) == \u001b[32m2\u001b[39m:\n\u001b[32m     47\u001b[39m         img = cv2.cvtColor(img, cv2.COLOR_GRAY2BGR)\n\u001b[32m     49\u001b[39m     h, w = img.shape[:\u001b[32m2\u001b[39m]\n",
      "\u001b[31mAttributeError\u001b[39m: 'float' object has no attribute 'shape'"
     ]
    },
    {
     "ename": "",
     "evalue": "",
     "output_type": "error",
     "traceback": [
      "\u001b[1;31mThe Kernel crashed while executing code in the current cell or a previous cell. \n",
      "\u001b[1;31mPlease review the code in the cell(s) to identify a possible cause of the failure. \n",
      "\u001b[1;31mClick <a href='https://aka.ms/vscodeJupyterKernelCrash'>here</a> for more info. \n",
      "\u001b[1;31mView Jupyter <a href='command:jupyter.viewOutput'>log</a> for further details."
     ]
    }
   ],
   "source": [
    "def empty(a) :\n",
    "    pass\n",
    "\n",
    "cv2.namedWindow(\"Bars\", cv2.WINDOW_NORMAL)\n",
    "cv2.resizeWindow(\"Bars\", 500, 150)\n",
    "# Create trackbar agregar por defecto el 0\n",
    "cv2.createTrackbar(\"Contrast\", \"Bars\", 100, 300, empty) # 1 (no cambia el contraste) [0 255]\n",
    "cv2.createTrackbar(\"Brightness\", \"Bars\", 100, 200, empty) # 0 (no cambia el brillo). Rango: [-255, 255]\n",
    "cv2.createTrackbar(\"Gamma\", \"Bars\", 100, 300, empty) # 1 (no tiene efecto) \n",
    "\n",
    "# Cargar imagen original solo una vez\n",
    "img = cv2.imread(\"./darkPollen.jpg\")\n",
    "\n",
    "while True :\n",
    "\n",
    "    contraste  = cv2.getTrackbarPos(\"Contrast\", \"Bars\") / 100\n",
    "    contraste = max(contraste, 0.1) # El inicio es en (0.1)\n",
    "\n",
    "    brillo = cv2.getTrackbarPos(\"Brightness\", \"Bars\") - 100\n",
    "\n",
    "    gamma = cv2.getTrackbarPos(\"Gamma\", \"Bars\") / 100\n",
    "    gamma = max(gamma, 0.1)\n",
    "\n",
    "    # Ajuste de contraste\n",
    "    img_contraste = cv2.convertScaleAbs(img, alpha=contraste, beta=0)\n",
    "    img_contraste = np.clip(img_contraste, 0, 255).astype(np.uint8)\n",
    "\n",
    "    # Ajuste de brillo\n",
    "    img_brillo = cv2.add(img_contraste, (brillo, brillo, brillo))\n",
    "    img_brillo = np.clip(img_brillo, 0, 255).astype(np.uint8)\n",
    "\n",
    "    # Ajuste gamma\n",
    "\n",
    "    img_gamma = np.power(img_brillo/255, gamma)*255\n",
    "    img_gamma = np.clip(img_gamma, 0, 255).astype(np.uint8)\n",
    "\n",
    "\n",
    "    config = {\n",
    "        'imagenes' : [img, img_contraste, img_brillo, img_gamma],\n",
    "        'etiquetas' : [\"Original\", \"Contraste\", \"Brillo\", \"Gamma\"],\n",
    "        'filas': 2,\n",
    "        'columnas': 4,\n",
    "        'tamaño_base' : 250,\n",
    "        'escala_panel' : 100\n",
    "    }\n",
    "\n",
    "    # cv2.imshow(\"Imagen original\", img)\n",
    "    # cv2.imshow(\"Correccion de contraste\", img_contraste)\n",
    "    # cv2.imshow(\"Correccion de brillo\", img_brillo)\n",
    "    # cv2.imshow(\"Correccion Gamma\", img_gamma)\n",
    "\n",
    "    panel = crear_panel(**config)\n",
    "    cv2.imshow('Panel', panel)\n",
    "\n",
    "    if cv2.waitKey(1) & 0xFF == 27 :\n",
    "        break\n",
    "\n",
    "cv2.destroyAllWindows()\n",
    "\n"
   ]
  },
  {
   "cell_type": "code",
   "execution_count": null,
   "id": "5f50c57c",
   "metadata": {},
   "outputs": [],
   "source": [
    "# Video: Secuencia de imagenes en un determinado tiempo"
   ]
  },
  {
   "cell_type": "code",
   "execution_count": null,
   "id": "71bdb7a9",
   "metadata": {},
   "outputs": [],
   "source": []
  },
  {
   "cell_type": "code",
   "execution_count": null,
   "id": "fc21d28a",
   "metadata": {},
   "outputs": [],
   "source": []
  },
  {
   "cell_type": "code",
   "execution_count": null,
   "id": "05ba2630",
   "metadata": {},
   "outputs": [],
   "source": []
  },
  {
   "cell_type": "code",
   "execution_count": null,
   "id": "04887a24",
   "metadata": {},
   "outputs": [],
   "source": []
  }
 ],
 "metadata": {
  "kernelspec": {
   "display_name": "proce-imagenes",
   "language": "python",
   "name": "python3"
  },
  "language_info": {
   "codemirror_mode": {
    "name": "ipython",
    "version": 3
   },
   "file_extension": ".py",
   "mimetype": "text/x-python",
   "name": "python",
   "nbconvert_exporter": "python",
   "pygments_lexer": "ipython3",
   "version": "3.12.11"
  }
 },
 "nbformat": 4,
 "nbformat_minor": 5
}
