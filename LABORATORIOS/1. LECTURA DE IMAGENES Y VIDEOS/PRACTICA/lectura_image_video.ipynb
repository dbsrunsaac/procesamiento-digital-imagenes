{
 "cells": [
  {
   "cell_type": "code",
   "execution_count": 1,
   "id": "589e6dac",
   "metadata": {},
   "outputs": [],
   "source": [
    "import cv2"
   ]
  },
  {
   "cell_type": "markdown",
   "id": "03530910",
   "metadata": {},
   "source": [
    "### Lectura de imagenes"
   ]
  },
  {
   "cell_type": "code",
   "execution_count": 25,
   "id": "22ee2653",
   "metadata": {},
   "outputs": [],
   "source": [
    "img = cv2.imread(\"./universo.jpg\", 0)\n",
    "cv2.imshow(\"Universo Surrealista\", img)\n",
    "\n",
    "img1 = cv2.resize(img, (0, 0), fx=0.5, fy=0.4)\n",
    "cv2.imshow(\"Universo de bolsillo\", img1)\n",
    "\n",
    "cv2.waitKey(0)\n",
    "cv2.destroyAllWindows()"
   ]
  },
  {
   "cell_type": "markdown",
   "id": "d42d9057",
   "metadata": {},
   "source": [
    "### Lectura de video"
   ]
  },
  {
   "cell_type": "code",
   "execution_count": 24,
   "id": "bbf7c421",
   "metadata": {},
   "outputs": [],
   "source": [
    "vid = cv2.VideoCapture(\"./te-quiero.mp4\")\n",
    "\n",
    "while True :\n",
    "    _, frame = vid.read()\n",
    "    cv2.imshow(\"Deberitas deberitas\", frame)\n",
    "\n",
    "    frame1 = cv2.resize(frame, (0,0), fx=0.4, fy=0.4)\n",
    "    cv2.imshow(\"Quieretito\", frame1)\n",
    "\n",
    "    filter_color = cv2.cvtColor(frame1, cv2.COLOR_BGR2GRAY)\n",
    "    cv2.imshow(\"Grises\", filter_color)\n",
    "    if cv2.waitKey(30) & 0xFF == 27 :\n",
    "        break\n",
    "\n",
    "cv2.destroyAllWindows()"
   ]
  },
  {
   "cell_type": "code",
   "execution_count": null,
   "id": "45e18fbc",
   "metadata": {},
   "outputs": [],
   "source": []
  },
  {
   "cell_type": "code",
   "execution_count": null,
   "id": "2c5e9d40",
   "metadata": {},
   "outputs": [],
   "source": []
  }
 ],
 "metadata": {
  "kernelspec": {
   "display_name": "proce-imagenes",
   "language": "python",
   "name": "python3"
  },
  "language_info": {
   "codemirror_mode": {
    "name": "ipython",
    "version": 3
   },
   "file_extension": ".py",
   "mimetype": "text/x-python",
   "name": "python",
   "nbconvert_exporter": "python",
   "pygments_lexer": "ipython3",
   "version": "3.12.11"
  }
 },
 "nbformat": 4,
 "nbformat_minor": 5
}
