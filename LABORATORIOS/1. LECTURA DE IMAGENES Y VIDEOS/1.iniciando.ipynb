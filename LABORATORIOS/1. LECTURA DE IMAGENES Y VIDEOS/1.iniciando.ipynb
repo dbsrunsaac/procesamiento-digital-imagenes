{
 "cells": [
  {
   "cell_type": "code",
   "execution_count": 2,
   "id": "03339351",
   "metadata": {},
   "outputs": [],
   "source": [
    "import cv2"
   ]
  },
  {
   "cell_type": "code",
   "execution_count": 3,
   "id": "bcaa5a57",
   "metadata": {},
   "outputs": [
    {
     "name": "stderr",
     "output_type": "stream",
     "text": [
      "qt.qpa.plugin: Could not find the Qt platform plugin \"wayland\" in \"/home/bremdow/anaconda3/envs/proce-imagenes/lib/python3.13/site-packages/cv2/qt/plugins\"\n"
     ]
    }
   ],
   "source": [
    "# Lectura de la imagen imread(ruta)\n",
    "img = cv2.imread(\"arania-saltarina.webp\", 0)\n",
    "\n",
    "# Mostrar la imagen\n",
    "# cv2.imshow(\"imagen\", img)\n",
    "# cv2.waitKey(0)\n",
    "# cv2.destroyAllWindows()\n",
    "\n",
    "# Ajustar las dimensiones\n",
    "img1 = cv2.resize(img, (276, 183))\n",
    "# segunda forma de redimensionar una imagen\n",
    "# Se define el punto de partida (0,0) y luego de forma porcentual el factor de crecimiento (puede superar 1 o 100%)\n",
    "img1 = cv2.resize(img, (0,0), fx=0.25, fy=0.25)\n",
    "cv2.imshow(\"Resize Saltarina\", img1)\n",
    "cv2.waitKey(0)\n",
    "cv2.destroyAllWindows()\n",
    "\n",
    "# Segunda imagen\n",
    "img2 = cv2.imread(\"./saltarina.jpg\", 0)\n",
    "cv2.imshow(\"Saltarina\", img2)\n",
    "cv2.waitKey(0)\n",
    "cv2.destroyAllWindows()"
   ]
  },
  {
   "cell_type": "code",
   "execution_count": null,
   "id": "7fc90340",
   "metadata": {},
   "outputs": [],
   "source": []
  }
 ],
 "metadata": {
  "kernelspec": {
   "display_name": "proce-imagenes",
   "language": "python",
   "name": "python3"
  },
  "language_info": {
   "codemirror_mode": {
    "name": "ipython",
    "version": 3
   },
   "file_extension": ".py",
   "mimetype": "text/x-python",
   "name": "python",
   "nbconvert_exporter": "python",
   "pygments_lexer": "ipython3",
   "version": "3.13.7"
  }
 },
 "nbformat": 4,
 "nbformat_minor": 5
}
